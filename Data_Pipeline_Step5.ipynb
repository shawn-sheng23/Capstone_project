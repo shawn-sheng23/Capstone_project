{
 "cells": [
  {
   "cell_type": "code",
   "execution_count": 41,
   "metadata": {},
   "outputs": [],
   "source": [
    "import requests\n",
    "import pandas as pd\n",
    "import yfinance as yf\n",
    "from bs4 import BeautifulSoup\n",
    "import datetime as dt\n",
    "from datetime import date"
   ]
  },
  {
   "cell_type": "markdown",
   "metadata": {},
   "source": [
    "#### Import daily stock price data"
   ]
  },
  {
   "cell_type": "code",
   "execution_count": 42,
   "metadata": {},
   "outputs": [],
   "source": [
    "# Get daily stock price of Zim Integrated Shipping Services (a US publicly listed shipping company)\n",
    "zim = yf.Ticker('ZIM')\n",
    "hist = zim.history(period='1y')"
   ]
  },
  {
   "cell_type": "code",
   "execution_count": 43,
   "metadata": {},
   "outputs": [],
   "source": [
    "# print(hist['Close'][0])"
   ]
  },
  {
   "cell_type": "markdown",
   "metadata": {},
   "source": [
    "#### Scrape weekly shipping rate index"
   ]
  },
  {
   "cell_type": "code",
   "execution_count": 44,
   "metadata": {},
   "outputs": [],
   "source": [
    "URL = \"https://www.macromicro.me/charts/947/commodity-ccfi-scfi\"\n",
    "page = requests.get(URL)\n",
    "soup = BeautifulSoup(page.content, \"html.parser\")"
   ]
  },
  {
   "cell_type": "code",
   "execution_count": 45,
   "metadata": {},
   "outputs": [],
   "source": [
    "weekly_ccfi = float(soup.find_all(\"div\", {\"class\": \"stat-val\"})[0].find(\"span\").text.strip().replace(\",\",\"\"))\n",
    "weekly_scfi = float(soup.find_all(\"div\", {\"class\": \"stat-val\"})[1].find(\"span\").text.strip().replace(\",\",\"\"))\n",
    "# print(weekly_ccfi)\n",
    "# print(weekly_scfi)"
   ]
  },
  {
   "cell_type": "markdown",
   "metadata": {},
   "source": [
    "#### Pull LA weather data from free weather api"
   ]
  },
  {
   "cell_type": "code",
   "execution_count": 46,
   "metadata": {},
   "outputs": [],
   "source": [
    "URL = \"http://api.weatherapi.com/v1/current.json?key=1862058c01b44ac6ab6140520221902&q=Los Angeles &aqi=no\"\n",
    "page = requests.get(URL)\n",
    "soup = BeautifulSoup(page.content, \"html.parser\")"
   ]
  },
  {
   "cell_type": "markdown",
   "metadata": {},
   "source": [
    "#### Put data points together as a dataframe and update daily"
   ]
  },
  {
   "cell_type": "code",
   "execution_count": 47,
   "metadata": {},
   "outputs": [],
   "source": [
    "data = {'close':hist['Close'][0],'ccfi':weekly_ccfi,'scfi':weekly_scfi,'precip_mm':page.json()['current']['precip_mm'],\n",
    "       'cloud':page.json()['current']['cloud'],'temp_c':page.json()['current']['temp_c'],'gust_kph':page.json()['current']['gust_kph']}"
   ]
  },
  {
   "cell_type": "code",
   "execution_count": 48,
   "metadata": {},
   "outputs": [],
   "source": [
    "t = pd.DataFrame(data, index=[date.today()])"
   ]
  },
  {
   "cell_type": "code",
   "execution_count": 49,
   "metadata": {},
   "outputs": [
    {
     "name": "stdout",
     "output_type": "stream",
     "text": [
      "                close     ccfi     scfi  precip_mm  cloud  temp_c  gust_kph\n",
      "2022-02-19  19.787394  3500.19  4946.01        0.0      0    10.6       6.1\n"
     ]
    }
   ],
   "source": [
    "print(t)"
   ]
  }
 ],
 "metadata": {
  "kernelspec": {
   "display_name": "Python 3",
   "language": "python",
   "name": "python3"
  },
  "language_info": {
   "codemirror_mode": {
    "name": "ipython",
    "version": 3
   },
   "file_extension": ".py",
   "mimetype": "text/x-python",
   "name": "python",
   "nbconvert_exporter": "python",
   "pygments_lexer": "ipython3",
   "version": "3.7.4"
  }
 },
 "nbformat": 4,
 "nbformat_minor": 2
}
