{
 "cells": [
  {
   "cell_type": "code",
   "execution_count": 1,
   "metadata": {},
   "outputs": [],
   "source": [
    "import requests\n",
    "import pandas as pd\n",
    "import yfinance as yf\n",
    "from bs4 import BeautifulSoup"
   ]
  },
  {
   "cell_type": "markdown",
   "metadata": {},
   "source": [
    "#### Import daily stock price data"
   ]
  },
  {
   "cell_type": "code",
   "execution_count": 2,
   "metadata": {},
   "outputs": [
    {
     "data": {
      "text/html": [
       "<div>\n",
       "<style scoped>\n",
       "    .dataframe tbody tr th:only-of-type {\n",
       "        vertical-align: middle;\n",
       "    }\n",
       "\n",
       "    .dataframe tbody tr th {\n",
       "        vertical-align: top;\n",
       "    }\n",
       "\n",
       "    .dataframe thead th {\n",
       "        text-align: right;\n",
       "    }\n",
       "</style>\n",
       "<table border=\"1\" class=\"dataframe\">\n",
       "  <thead>\n",
       "    <tr style=\"text-align: right;\">\n",
       "      <th></th>\n",
       "      <th>Open</th>\n",
       "      <th>High</th>\n",
       "      <th>Low</th>\n",
       "      <th>Close</th>\n",
       "      <th>Volume</th>\n",
       "      <th>Dividends</th>\n",
       "      <th>Stock Splits</th>\n",
       "    </tr>\n",
       "    <tr>\n",
       "      <th>Date</th>\n",
       "      <th></th>\n",
       "      <th></th>\n",
       "      <th></th>\n",
       "      <th></th>\n",
       "      <th></th>\n",
       "      <th></th>\n",
       "      <th></th>\n",
       "    </tr>\n",
       "  </thead>\n",
       "  <tbody>\n",
       "    <tr>\n",
       "      <th>2021-02-19</th>\n",
       "      <td>19.805573</td>\n",
       "      <td>19.996447</td>\n",
       "      <td>19.005714</td>\n",
       "      <td>19.787394</td>\n",
       "      <td>829500</td>\n",
       "      <td>0.0</td>\n",
       "      <td>0</td>\n",
       "    </tr>\n",
       "    <tr>\n",
       "      <th>2021-02-22</th>\n",
       "      <td>19.996447</td>\n",
       "      <td>20.523626</td>\n",
       "      <td>18.923910</td>\n",
       "      <td>18.960268</td>\n",
       "      <td>692200</td>\n",
       "      <td>0.0</td>\n",
       "      <td>0</td>\n",
       "    </tr>\n",
       "    <tr>\n",
       "      <th>2021-02-23</th>\n",
       "      <td>18.633054</td>\n",
       "      <td>18.633054</td>\n",
       "      <td>17.051517</td>\n",
       "      <td>18.024071</td>\n",
       "      <td>658700</td>\n",
       "      <td>0.0</td>\n",
       "      <td>0</td>\n",
       "    </tr>\n",
       "    <tr>\n",
       "      <th>2021-02-24</th>\n",
       "      <td>18.387642</td>\n",
       "      <td>18.969358</td>\n",
       "      <td>18.024070</td>\n",
       "      <td>18.233124</td>\n",
       "      <td>584000</td>\n",
       "      <td>0.0</td>\n",
       "      <td>0</td>\n",
       "    </tr>\n",
       "    <tr>\n",
       "      <th>2021-02-25</th>\n",
       "      <td>18.178588</td>\n",
       "      <td>18.514892</td>\n",
       "      <td>17.478712</td>\n",
       "      <td>17.587784</td>\n",
       "      <td>354900</td>\n",
       "      <td>0.0</td>\n",
       "      <td>0</td>\n",
       "    </tr>\n",
       "  </tbody>\n",
       "</table>\n",
       "</div>"
      ],
      "text/plain": [
       "                 Open       High        Low      Close  Volume  Dividends  \\\n",
       "Date                                                                        \n",
       "2021-02-19  19.805573  19.996447  19.005714  19.787394  829500        0.0   \n",
       "2021-02-22  19.996447  20.523626  18.923910  18.960268  692200        0.0   \n",
       "2021-02-23  18.633054  18.633054  17.051517  18.024071  658700        0.0   \n",
       "2021-02-24  18.387642  18.969358  18.024070  18.233124  584000        0.0   \n",
       "2021-02-25  18.178588  18.514892  17.478712  17.587784  354900        0.0   \n",
       "\n",
       "            Stock Splits  \n",
       "Date                      \n",
       "2021-02-19             0  \n",
       "2021-02-22             0  \n",
       "2021-02-23             0  \n",
       "2021-02-24             0  \n",
       "2021-02-25             0  "
      ]
     },
     "execution_count": 2,
     "metadata": {},
     "output_type": "execute_result"
    }
   ],
   "source": [
    "# Get daily stock price of Zim Integrated Shipping Services (a US publicly listed shipping company)\n",
    "zim = yf.Ticker('ZIM')\n",
    "hist = zim.history(period='1y')\n",
    "hist.head()"
   ]
  },
  {
   "cell_type": "code",
   "execution_count": 9,
   "metadata": {},
   "outputs": [
    {
     "data": {
      "text/plain": [
       "count    254.000000\n",
       "mean      42.959770\n",
       "std       13.296247\n",
       "min       17.106052\n",
       "25%       35.177842\n",
       "50%       41.760508\n",
       "75%       52.117343\n",
       "max       73.349998\n",
       "Name: Close, dtype: float64"
      ]
     },
     "execution_count": 9,
     "metadata": {},
     "output_type": "execute_result"
    }
   ],
   "source": [
    "hist['Close'].describe()"
   ]
  },
  {
   "cell_type": "code",
   "execution_count": 15,
   "metadata": {},
   "outputs": [
    {
     "data": {
      "image/png": "[encoded data removed]",
      "text/plain": [
       "<Figure size 432x288 with 1 Axes>"
      ]
     },
     "metadata": {
      "needs_background": "light"
     },
     "output_type": "display_data"
    }
   ],
   "source": [
    "boxplot = hist.boxplot(column=['Open','Close','High','Low'])  "
   ]
  }
 ],
 "metadata": {
  "kernelspec": {
   "display_name": "Python 3",
   "language": "python",
   "name": "python3"
  },
  "language_info": {
   "codemirror_mode": {
    "name": "ipython",
    "version": 3
   },
   "file_extension": ".py",
   "mimetype": "text/x-python",
   "name": "python",
   "nbconvert_exporter": "python",
   "pygments_lexer": "ipython3",
   "version": "3.7.4"
  }
 },
 "nbformat": 4,
 "nbformat_minor": 2
}
