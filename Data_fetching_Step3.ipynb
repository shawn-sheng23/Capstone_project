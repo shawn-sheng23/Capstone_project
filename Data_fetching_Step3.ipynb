{
 "cells": [
  {
   "cell_type": "code",
   "execution_count": 56,
   "metadata": {},
   "outputs": [],
   "source": [
    "import requests\n",
    "import pandas as pd\n",
    "import yfinance as yf\n",
    "from bs4 import BeautifulSoup"
   ]
  },
  {
   "cell_type": "markdown",
   "metadata": {},
   "source": [
    "#### Import daily stock price data"
   ]
  },
  {
   "cell_type": "code",
   "execution_count": 57,
   "metadata": {},
   "outputs": [
    {
     "data": {
      "text/html": [
       "<div>\n",
       "<style scoped>\n",
       "    .dataframe tbody tr th:only-of-type {\n",
       "        vertical-align: middle;\n",
       "    }\n",
       "\n",
       "    .dataframe tbody tr th {\n",
       "        vertical-align: top;\n",
       "    }\n",
       "\n",
       "    .dataframe thead th {\n",
       "        text-align: right;\n",
       "    }\n",
       "</style>\n",
       "<table border=\"1\" class=\"dataframe\">\n",
       "  <thead>\n",
       "    <tr style=\"text-align: right;\">\n",
       "      <th></th>\n",
       "      <th>Open</th>\n",
       "      <th>High</th>\n",
       "      <th>Low</th>\n",
       "      <th>Close</th>\n",
       "      <th>Volume</th>\n",
       "      <th>Dividends</th>\n",
       "      <th>Stock Splits</th>\n",
       "    </tr>\n",
       "    <tr>\n",
       "      <th>Date</th>\n",
       "      <th></th>\n",
       "      <th></th>\n",
       "      <th></th>\n",
       "      <th></th>\n",
       "      <th></th>\n",
       "      <th></th>\n",
       "      <th></th>\n",
       "    </tr>\n",
       "  </thead>\n",
       "  <tbody>\n",
       "    <tr>\n",
       "      <th>2021-01-29</th>\n",
       "      <td>11.179832</td>\n",
       "      <td>11.261636</td>\n",
       "      <td>10.634474</td>\n",
       "      <td>10.952600</td>\n",
       "      <td>1418500</td>\n",
       "      <td>0.0</td>\n",
       "      <td>0</td>\n",
       "    </tr>\n",
       "    <tr>\n",
       "      <th>2021-02-01</th>\n",
       "      <td>11.143475</td>\n",
       "      <td>12.479601</td>\n",
       "      <td>11.143475</td>\n",
       "      <td>12.379619</td>\n",
       "      <td>1081400</td>\n",
       "      <td>0.0</td>\n",
       "      <td>0</td>\n",
       "    </tr>\n",
       "    <tr>\n",
       "      <th>2021-02-02</th>\n",
       "      <td>12.897708</td>\n",
       "      <td>13.134030</td>\n",
       "      <td>12.543226</td>\n",
       "      <td>12.824994</td>\n",
       "      <td>1506000</td>\n",
       "      <td>0.0</td>\n",
       "      <td>0</td>\n",
       "    </tr>\n",
       "    <tr>\n",
       "      <th>2021-02-03</th>\n",
       "      <td>13.188566</td>\n",
       "      <td>13.615762</td>\n",
       "      <td>13.088583</td>\n",
       "      <td>13.179477</td>\n",
       "      <td>832900</td>\n",
       "      <td>0.0</td>\n",
       "      <td>0</td>\n",
       "    </tr>\n",
       "    <tr>\n",
       "      <th>2021-02-04</th>\n",
       "      <td>13.452156</td>\n",
       "      <td>13.724835</td>\n",
       "      <td>12.861351</td>\n",
       "      <td>12.952245</td>\n",
       "      <td>1299500</td>\n",
       "      <td>0.0</td>\n",
       "      <td>0</td>\n",
       "    </tr>\n",
       "  </tbody>\n",
       "</table>\n",
       "</div>"
      ],
      "text/plain": [
       "                 Open       High        Low      Close   Volume  Dividends  \\\n",
       "Date                                                                         \n",
       "2021-01-29  11.179832  11.261636  10.634474  10.952600  1418500        0.0   \n",
       "2021-02-01  11.143475  12.479601  11.143475  12.379619  1081400        0.0   \n",
       "2021-02-02  12.897708  13.134030  12.543226  12.824994  1506000        0.0   \n",
       "2021-02-03  13.188566  13.615762  13.088583  13.179477   832900        0.0   \n",
       "2021-02-04  13.452156  13.724835  12.861351  12.952245  1299500        0.0   \n",
       "\n",
       "            Stock Splits  \n",
       "Date                      \n",
       "2021-01-29             0  \n",
       "2021-02-01             0  \n",
       "2021-02-02             0  \n",
       "2021-02-03             0  \n",
       "2021-02-04             0  "
      ]
     },
     "execution_count": 57,
     "metadata": {},
     "output_type": "execute_result"
    }
   ],
   "source": [
    "# Get daily stock price of Zim Integrated Shipping Services (a US publicly listed shipping company)\n",
    "zim = yf.Ticker('ZIM')\n",
    "hist = msft.history(period='1y')\n",
    "hist.head()"
   ]
  },
  {
   "cell_type": "markdown",
   "metadata": {},
   "source": [
    "#### Scrape weekly shipping rate index"
   ]
  },
  {
   "cell_type": "code",
   "execution_count": 58,
   "metadata": {},
   "outputs": [],
   "source": [
    "URL = \"https://www.macromicro.me/charts/947/commodity-ccfi-scfi\"\n",
    "page = requests.get(URL)\n",
    "soup = BeautifulSoup(page.content, \"html.parser\")"
   ]
  },
  {
   "cell_type": "code",
   "execution_count": 59,
   "metadata": {},
   "outputs": [
    {
     "name": "stdout",
     "output_type": "stream",
     "text": [
      "3565.33\n",
      "5010.36\n"
     ]
    }
   ],
   "source": [
    "weekly_ccfi = float(soup.find_all(\"div\", {\"class\": \"stat-val\"})[0].find(\"span\").text.strip().replace(\",\",\"\"))\n",
    "weekly_scfi = float(soup.find_all(\"div\", {\"class\": \"stat-val\"})[1].find(\"span\").text.strip().replace(\",\",\"\"))\n",
    "print(weekly_ccfi)\n",
    "print(weekly_scfi)"
   ]
  },
  {
   "cell_type": "markdown",
   "metadata": {},
   "source": [
    "#### Still figuring out Twitter sentiment data as my application for developer account was denied"
   ]
  }
 ],
 "metadata": {
  "kernelspec": {
   "display_name": "Python 3",
   "language": "python",
   "name": "python3"
  },
  "language_info": {
   "codemirror_mode": {
    "name": "ipython",
    "version": 3
   },
   "file_extension": ".py",
   "mimetype": "text/x-python",
   "name": "python",
   "nbconvert_exporter": "python",
   "pygments_lexer": "ipython3",
   "version": "3.7.4"
  }
 },
 "nbformat": 4,
 "nbformat_minor": 2
}
